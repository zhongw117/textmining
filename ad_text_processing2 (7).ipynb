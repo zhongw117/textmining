{
 "cells": [
  {
   "cell_type": "code",
   "execution_count": 648,
   "metadata": {},
   "outputs": [],
   "source": [
    "#!/usr/bin/env python\n",
    "# -*- coding: utf-8 -*-\n",
    "import pymysql\n",
    "import pandas as pd"
   ]
  },
  {
   "cell_type": "code",
   "execution_count": 649,
   "metadata": {},
   "outputs": [],
   "source": [
    "dbconnect = pymysql.connect()\n",
    "cursor = dbconnect.cursor()\n"
   ]
  },
  {
   "cell_type": "code",
   "execution_count": 650,
   "metadata": {},
   "outputs": [],
   "source": [
    "mysql_query = \"select  from  where'\""
   ]
  },
  {
   "cell_type": "code",
   "execution_count": 651,
   "metadata": {},
   "outputs": [],
   "source": [
    "amount_listing = 20000\n",
    "cursor.execute(mysql_query)\n",
    "mls_input = cursor.fetchmany(amount_listing)\n"
   ]
  },
  {
   "cell_type": "code",
   "execution_count": 652,
   "metadata": {},
   "outputs": [
    {
     "name": "stdout",
     "output_type": "stream",
     "text": [
      "20000\n"
     ]
    }
   ],
   "source": [
    "print(len(mls_input))"
   ]
  },
  {
   "cell_type": "code",
   "execution_count": 653,
   "metadata": {},
   "outputs": [],
   "source": [
    "mysql_query_price = \"select  from  where \"\n",
    "cursor.execute(mysql_query_price)\n",
    "price_listing = cursor.fetchmany(amount_listing)\n",
    "price_listing = str(price_listing)"
   ]
  },
  {
   "cell_type": "code",
   "execution_count": 654,
   "metadata": {},
   "outputs": [],
   "source": [
    "mysql_ml_num = \"select ml_num from model_listing_wz where type_own1_out = 'detached' and s_r = 'Sale'\"\n",
    "cursor.execute(mysql_ml_num)\n",
    "ml_num = cursor.fetchmany(amount_listing)\n",
    "ml_num=str(ml_num)"
   ]
  },
  {
   "cell_type": "code",
   "execution_count": 655,
   "metadata": {},
   "outputs": [],
   "source": [
    "import re\n",
    "def tup_list_T(X_s):\n",
    "    tokens=[]\n",
    "    sentences = re.split(\"\"\"[!\"#$%&()*+,-./:;<=>?@[\\]^_`{|}'~.]\"\"\", X_s)\n",
    "    for phrase in sentences:\n",
    "        if phrase is None or len(phrase) == 0 or phrase == ' ':\n",
    "            continue\n",
    "        else:\n",
    "            for tk in phrase.split():\n",
    "                tokens.append(tk)\n",
    "    ml_num_s = [token.replace(\"'\",\"\") for token in tokens]\n",
    "    return ml_num_s\n",
    "ml_num_s = tup_list_T(ml_num)\n",
    "price_listing_s = tup_list_T(price_listing)\n"
   ]
  },
  {
   "cell_type": "code",
   "execution_count": 656,
   "metadata": {},
   "outputs": [
    {
     "data": {
      "text/plain": [
       "str"
      ]
     },
     "execution_count": 656,
     "metadata": {},
     "output_type": "execute_result"
    }
   ],
   "source": [
    "type(price_listing)"
   ]
  },
  {
   "cell_type": "code",
   "execution_count": 657,
   "metadata": {},
   "outputs": [],
   "source": [
    "cursor.close()"
   ]
  },
  {
   "cell_type": "code",
   "execution_count": 658,
   "metadata": {},
   "outputs": [
    {
     "name": "stdout",
     "output_type": "stream",
     "text": [
      "('Total amount of listings to be processed are:', 20000)\n"
     ]
    }
   ],
   "source": [
    "print ('Total amount of listings to be processed are:', len(mls_input))"
   ]
  },
  {
   "cell_type": "code",
   "execution_count": 659,
   "metadata": {},
   "outputs": [],
   "source": [
    "def multiple_replace(text, idict):\n",
    "    rx = re.compile('|'.join(map(re.escape, idict)))\n",
    "\n",
    "    def one_xlat(match):\n",
    "        return idict[match.group(0)]\n",
    "\n",
    "    return rx.sub(one_xlat, text)\n"
   ]
  },
  {
   "cell_type": "code",
   "execution_count": 660,
   "metadata": {},
   "outputs": [
    {
     "ename": "SyntaxError",
     "evalue": "invalid syntax (<ipython-input-660-ad78308f298a>, line 18)",
     "output_type": "error",
     "traceback": [
      "\u001b[1;36m  File \u001b[1;32m\"<ipython-input-660-ad78308f298a>\"\u001b[1;36m, line \u001b[1;32m18\u001b[0m\n\u001b[1;33m    'flrs ': 'floor ', 'flr ': 'floor ',\u001b[0m\n\u001b[1;37m           ^\u001b[0m\n\u001b[1;31mSyntaxError\u001b[0m\u001b[1;31m:\u001b[0m invalid syntax\n"
     ]
    }
   ],
   "source": [
    "idict = {'rm ': 'rooms ', 'bsmt ': 'basement ', 'rms ': 'room ', \n",
    "         .......,
    "         }"
   ]
  },
  {
   "cell_type": "code",
   "execution_count": null,
   "metadata": {},
   "outputs": [],
   "source": [
    "from stop_words import get_stop_words\n",
    "import string\n",
    "import spacy\n",
    "nlp = spacy.load('en')\n",
    "\n",
    "f = open('./trainingdata_detached.csv', 'w')\n",
    "\n",
    "for n in range(len(mls_input)):\n",
    "    mls_input_i = mls_input[n]\n",
    "    tup = str(mls_input_i)\n",
    "    tup = tup.lower()\n",
    "    # print tup\n",
    "    tokens = []\n",
    "    sentences = re.split(\"\"\"[!\"#$%&'()*+,-./:;<=>?@[\\]^_`{|}~.]\"\"\", tup)\n",
    "    for phrase in sentences:\n",
    "        if phrase is None or len(phrase) == 0 or phrase == ' ':\n",
    "            continue\n",
    "        else:\n",
    "            for tk in phrase.lower().split():\n",
    "                tokens.append(tk)\n",
    "                # remove stopwords\n",
    "\n",
    "    stop_words = set(get_stop_words('english'))\n",
    "    tokens_nlp = [word for word in tokens if word not in stop_words]\n",
    "\n",
    "    tokens_nlp = str(tokens_nlp)\n",
    "    tokens_nlp = tokens_nlp.translate(None, string.punctuation)\n",
    "    tokens_nlp = tokens_nlp.decode('unicode_escape')\n",
    "    tokens_nlp = nlp(tokens_nlp)\n",
    "    # content_text_nlp = str(content_text_nlp)\n",
    "\n",
    "    tokens_nlp_list = []\n",
    "    for token in tokens_nlp:\n",
    "        tokens_nlp_list.append(token.lemma_)\n",
    "\n",
    "    content_text_nlp = [word for word in tokens_nlp_list if word not in stop_words]\n",
    "    content_text_nlp = ' '.join(content_text_nlp)\n",
    "    content_text_nlp = multiple_replace(content_text_nlp, idict)\n",
    "    f.write(str(content_text_nlp) + '\\n')\n",
    "\n",
    "f.close()"
   ]
  },
  {
   "cell_type": "code",
   "execution_count": null,
   "metadata": {},
   "outputs": [],
   "source": [
    "df_text = pd.read_csv('./trainingdata_detached.csv',header=None,skip_blank_lines=False,names=['text'])\n",
    "print(len(df_text['text']))"
   ]
  },
  {
   "cell_type": "code",
   "execution_count": null,
   "metadata": {},
   "outputs": [],
   "source": [
    "df_text.replace('none',0)\n",
    "\n",
    "df_text = df_text.fillna('0')\n"
   ]
  },
  {
   "cell_type": "code",
   "execution_count": null,
   "metadata": {},
   "outputs": [],
   "source": [
    "print(len(df_text['text']))"
   ]
  },
  {
   "cell_type": "code",
   "execution_count": null,
   "metadata": {},
   "outputs": [],
   "source": [
    "df_text.iloc[740]['text']"
   ]
  },
  {
   "cell_type": "code",
   "execution_count": null,
   "metadata": {},
   "outputs": [],
   "source": [
    "df_text = df_text.replace('none','0')"
   ]
  },
  {
   "cell_type": "code",
   "execution_count": null,
   "metadata": {},
   "outputs": [],
   "source": [
    "df_text.iloc[740]['text']"
   ]
  },
  {
   "cell_type": "code",
   "execution_count": null,
   "metadata": {},
   "outputs": [],
   "source": [
    "df_text['ml_num'] = ml_num_s\n"
   ]
  },
  {
   "cell_type": "code",
   "execution_count": null,
   "metadata": {},
   "outputs": [],
   "source": [
    "df_text_index = df_text.set_index('ml_num')"
   ]
  },
  {
   "cell_type": "code",
   "execution_count": null,
   "metadata": {},
   "outputs": [],
   "source": [
    "df_text_index.head()"
   ]
  },
  {
   "cell_type": "code",
   "execution_count": null,
   "metadata": {},
   "outputs": [],
   "source": [
    "doc = 'completely updated house from top to bottom with upgraded appliances. fully renovated. stainless steel appliances, maple Cabinets,' \\\n",
    "      '"
   ]
  },
  {
   "cell_type": "code",
   "execution_count": null,
   "metadata": {},
   "outputs": [],
   "source": [
    "df_text.head()"
   ]
  },
  {
   "cell_type": "code",
   "execution_count": null,
   "metadata": {},
   "outputs": [],
   "source": [
    "import math\n",
    "from collections import Counter\n",
    "\n",
    "WORD = re.compile(r'\\w+')\n",
    "\n",
    "def get_cosine(vec1, vec2):\n",
    "     intersection = set(vec1.keys()) & set(vec2.keys())\n",
    "     numerator = sum([vec1[x] * vec2[x] for x in intersection])\n",
    "\n",
    "     sum1 = sum([vec1[x]**2 for x in vec1.keys()])\n",
    "     sum2 = sum([vec2[x]**2 for x in vec2.keys()])\n",
    "     denominator = math.sqrt(sum1) * math.sqrt(sum2)\n",
    "\n",
    "     if not denominator:\n",
    "        return 0.0\n",
    "     else:\n",
    "        return float(numerator) / denominator\n",
    "\n",
    "def text_to_vector(text):\n",
    "     words = WORD.findall(text)\n",
    "     return Counter(words)\n",
    "\n",
    "text1 = doc\n",
    "vector1 = text_to_vector(text1)\n"
   ]
  },
  {
   "cell_type": "code",
   "execution_count": null,
   "metadata": {},
   "outputs": [],
   "source": [
    "cosine_sim = []\n",
    "for n in range(len(df_text['text'])):\n",
    "    text2 = df_text.iloc[n]['text']\n",
    "    vector2 = text_to_vector(text2)\n",
    "\n",
    "    cosine = get_cosine(vector1, vector2)\n",
    "    cosine_sim.append(cosine)\n",
    " \n",
    "# print(cosine_sim)"
   ]
  },
  {
   "cell_type": "code",
   "execution_count": null,
   "metadata": {},
   "outputs": [],
   "source": [
    "type(cosine_sim)"
   ]
  },
  {
   "cell_type": "code",
   "execution_count": null,
   "metadata": {},
   "outputs": [],
   "source": [
    "df_cosine_sim = pd.DataFrame(cosine_sim,columns=['SIM'])\n",
    "df_cosine_sim.head()"
   ]
  },
  {
   "cell_type": "code",
   "execution_count": null,
   "metadata": {},
   "outputs": [],
   "source": [
    "from sklearn import preprocessing\n",
    "\n",
    "min_max_scaler = preprocessing.MinMaxScaler()\n",
    "np_scaled = min_max_scaler.fit_transform(df_cosine_sim)\n",
    "df_sim_normalized = pd.DataFrame(np_scaled)\n",
    "df_sim_normalized.columns = ['sim']\n",
    "df_sim_normalized.head(10)"
   ]
  },
  {
   "cell_type": "code",
   "execution_count": null,
   "metadata": {},
   "outputs": [],
   "source": [
    "df_text.iloc[740]['text']"
   ]
  },
  {
   "cell_type": "code",
   "execution_count": null,
   "metadata": {},
   "outputs": [],
   "source": [
    "cosine_sim[809]"
   ]
  },
  {
   "cell_type": "code",
   "execution_count": null,
   "metadata": {},
   "outputs": [],
   "source": [
    "df_sim_normalized.iloc[809]"
   ]
  },
  {
   "cell_type": "code",
   "execution_count": null,
   "metadata": {},
   "outputs": [],
   "source": [
    "import matplotlib.pyplot as plt\n",
    "fig = plt.figure();\n",
    "df_sim_normalized.plot(figsize=(25,13))\n",
    "plt.show()"
   ]
  },
  {
   "cell_type": "code",
   "execution_count": null,
   "metadata": {},
   "outputs": [],
   "source": [
    "df_sim_normalized['ml_num'] = ml_num_s"
   ]
  },
  {
   "cell_type": "code",
   "execution_count": null,
   "metadata": {},
   "outputs": [],
   "source": [
    "df_sim_normalized[df_sim_normalized['sim'] == 0].head()"
   ]
  },
  {
   "cell_type": "code",
   "execution_count": null,
   "metadata": {},
   "outputs": [],
   "source": [
    "# df_text.iloc[988]['text']"
   ]
  },
  {
   "cell_type": "code",
   "execution_count": null,
   "metadata": {},
   "outputs": [],
   "source": [
    "# df_sim_normalized[df_sim_normalized['sim'] > 0.8]"
   ]
  },
  {
   "cell_type": "code",
   "execution_count": null,
   "metadata": {},
   "outputs": [],
   "source": [
    "# df_text.iloc[272]['text']"
   ]
  },
  {
   "cell_type": "code",
   "execution_count": null,
   "metadata": {},
   "outputs": [],
   "source": [
    "df_sim_normalized['renting_price'] = price_listing_s\n",
    "df_sim_normalized.head()"
   ]
  },
  {
   "cell_type": "code",
   "execution_count": null,
   "metadata": {},
   "outputs": [],
   "source": [
    "import numpy as np\n",
    "df_sim_normalized['renting_price'] = df_sim_normalized['renting_price'].astype(np.float)"
   ]
  },
  {
   "cell_type": "code",
   "execution_count": null,
   "metadata": {},
   "outputs": [],
   "source": [
    "df_sim_normalized.head()\n"
   ]
  },
  {
   "cell_type": "code",
   "execution_count": null,
   "metadata": {},
   "outputs": [],
   "source": [
    "df_sim_normalized.drop(['ml_num'],axis=1).hist()\n",
    "plt.show()"
   ]
  },
  {
   "cell_type": "code",
   "execution_count": null,
   "metadata": {},
   "outputs": [],
   "source": [
    "df_sim_normalized.plot(x='renting_price', y='sim',style='o',figsize=(16,8))\n",
    "plt.show()"
   ]
  },
  {
   "cell_type": "code",
   "execution_count": null,
   "metadata": {},
   "outputs": [],
   "source": [
    "# df_sim_normalized = df_sim_normalized.set_index['renting_price']\n",
    "df_sim_normalized.head()"
   ]
  },
  {
   "cell_type": "code",
   "execution_count": null,
   "metadata": {},
   "outputs": [],
   "source": [
    "df_sim_normalized.plot.scatter(x='renting_price', y='sim', c='k', alpha=.15,figsize=(12,6))\n",
    "plt.tight_layout()\n",
    "plt.show()"
   ]
  },
  {
   "cell_type": "code",
   "execution_count": null,
   "metadata": {},
   "outputs": [],
   "source": [
    "df_sim_high = df_sim_normalized[df_sim_normalized['sim'] > 0.8]\n",
    "df_sim_high = df_sim_high.sort_values(by=['sim'],ascending=False)\n",
    "df_sim_high"
   ]
  },
  {
   "cell_type": "code",
   "execution_count": null,
   "metadata": {},
   "outputs": [],
   "source": [
    "# df_selected.plot.line(y=df_selected['renting_price'])\n",
    "df_sim_high.drop(['ml_num','sim'],axis=1).plot.bar(figsize=(18,6))\n",
    "\n",
    "plt.show()\n"
   ]
  },
  {
   "cell_type": "code",
   "execution_count": null,
   "metadata": {},
   "outputs": [],
   "source": [
    "df_sim_low = df_sim_normalized[df_sim_normalized['sim']<=0]\n",
    "df_sim_low = df_sim_low.sort_values(by=['sim'])\n",
    "print(len(df_sim_low))"
   ]
  },
  {
   "cell_type": "code",
   "execution_count": null,
   "metadata": {},
   "outputs": [],
   "source": [
    "df_sim_low"
   ]
  },
  {
   "cell_type": "code",
   "execution_count": null,
   "metadata": {},
   "outputs": [],
   "source": [
    "df_sim_normalized.loc[df_sim_normalized['ml_num']=='N3722080']"
   ]
  },
  {
   "cell_type": "code",
   "execution_count": null,
   "metadata": {},
   "outputs": [],
   "source": [
    "# df_sim_high.loc[16750]['ml_num']"
   ]
  },
  {
   "cell_type": "code",
   "execution_count": null,
   "metadata": {},
   "outputs": [],
   "source": [
    "df_sim_high.plot(x='renting_price', y='sim',style='o',figsize=(16,6))\n",
    "plt.show()"
   ]
  },
  {
   "cell_type": "code",
   "execution_count": null,
   "metadata": {},
   "outputs": [],
   "source": []
  }
 ],
 "metadata": {
  "kernelspec": {
   "display_name": "Python 2",
   "language": "python",
   "name": "python2"
  },
  "language_info": {
   "codemirror_mode": {
    "name": "ipython",
    "version": 2
   },
   "file_extension": ".py",
   "mimetype": "text/x-python",
   "name": "python",
   "nbconvert_exporter": "python",
   "pygments_lexer": "ipython2",
   "version": "2.7.13"
  }
 },
 "nbformat": 4,
 "nbformat_minor": 2
}
