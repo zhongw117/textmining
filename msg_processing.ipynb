{
 "cells": [
  {
   "cell_type": "code",
   "execution_count": 41,
   "metadata": {},
   "outputs": [],
   "source": [
    "# -*- coding: utf-8 -*-\n",
    "import pandas as pd\n",
    "import numpy as np"
   ]
  },
  {
   "cell_type": "code",
   "execution_count": 42,
   "metadata": {},
   "outputs": [],
   "source": [
    "df_chat = pd.read_csv('/home/wilson/Downloads/group_chat_content(1).csv')"
   ]
  },
  {
   "cell_type": "code",
   "execution_count": 43,
   "metadata": {},
   "outputs": [
    {
     "data": {
      "text/plain": [
       "['group_displayname',\n",
       " 'user_nickname',\n",
       " 'user_info',\n",
       " 'content',\n",
       " 'content_type',\n",
       " 'robot_id',\n",
       " 'robot_displayname',\n",
       " 'user_signature',\n",
       " 'time',\n",
       " 'region',\n",
       " 'city']"
      ]
     },
     "execution_count": 43,
     "metadata": {},
     "output_type": "execute_result"
    }
   ],
   "source": [
    "list(df_chat)"
   ]
  },
  {
   "cell_type": "code",
   "execution_count": 44,
   "metadata": {},
   "outputs": [],
   "source": [
    "df_chat_trim = df_chat.drop(['user_signature','time','region','city'],axis=1)"
   ]
  },
  {
   "cell_type": "code",
   "execution_count": 45,
   "metadata": {},
   "outputs": [
    {
     "data": {
      "text/plain": [
       "['group_displayname',\n",
       " 'user_nickname',\n",
       " 'user_info',\n",
       " 'content',\n",
       " 'content_type',\n",
       " 'robot_id',\n",
       " 'robot_displayname']"
      ]
     },
     "execution_count": 45,
     "metadata": {},
     "output_type": "execute_result"
    }
   ],
   "source": [
    "list(df_chat_trim)"
   ]
  },
  {
   "cell_type": "code",
   "execution_count": 46,
   "metadata": {},
   "outputs": [
    {
     "data": {
      "text/html": [
       "<div>\n",
       "<style scoped>\n",
       "    .dataframe tbody tr th:only-of-type {\n",
       "        vertical-align: middle;\n",
       "    }\n",
       "\n",
       "    .dataframe tbody tr th {\n",
       "        vertical-align: top;\n",
       "    }\n",
       "\n",
       "    .dataframe thead th {\n",
       "        text-align: right;\n",
       "    }\n",
       "</style>\n",
       "<table border=\"1\" class=\"dataframe\">\n",
       "  <thead>\n",
       "    <tr style=\"text-align: right;\">\n",
       "      <th></th>\n",
       "      <th>group_displayname</th>\n",
       "      <th>user_nickname</th>\n",
       "      <th>user_info</th>\n",
       "      <th>content</th>\n",
       "      <th>content_type</th>\n",
       "      <th>robot_id</th>\n",
       "      <th>robot_displayname</th>\n",
       "    </tr>\n",
       "  </thead>\n",
       "  <tbody>\n",
       "    <tr>\n",
       "      <th>49</th>\n",
       "      <td>Wilson_优品团购</td>\n",
       "      <td>anna ～🇨🇦</td>\n",
       "      <td>[{\"Sex\": 2, \"Uin\": 0, \"City\": \"\", \"Alias\": \"\",...</td>\n",
       "      <td>@芍 不好意思[害羞]和朋友约了事情 今天在外边 才回来。你的帽子订了，后来商家来邮件说暂时...</td>\n",
       "      <td>Text</td>\n",
       "      <td>robot-1</td>\n",
       "      <td>珍妮买卖</td>\n",
       "    </tr>\n",
       "    <tr>\n",
       "      <th>50</th>\n",
       "      <td>Wilson_明通驾校</td>\n",
       "      <td>Jin</td>\n",
       "      <td>[{\"Sex\": 1, \"Uin\": 0, \"City\": \"太原\", \"Alias\": \"...</td>\n",
       "      <td>2005年尼桑Altima 2.5s +18.5万公里  没毛病  因回国超低价出手，机会难...</td>\n",
       "      <td>Text</td>\n",
       "      <td>robot-1</td>\n",
       "      <td>Jenny 7@ masterqun.com</td>\n",
       "    </tr>\n",
       "    <tr>\n",
       "      <th>51</th>\n",
       "      <td>Wilson_明通驾校</td>\n",
       "      <td>Jin</td>\n",
       "      <td>[{\"Sex\": 1, \"Uin\": 0, \"City\": \"太原\", \"Alias\": \"...</td>\n",
       "      <td>1</td>\n",
       "      <td>Picture</td>\n",
       "      <td>robot-1</td>\n",
       "      <td>Jenny 7@ masterqun.com</td>\n",
       "    </tr>\n",
       "    <tr>\n",
       "      <th>52</th>\n",
       "      <td>Wilson_温莎无忧3</td>\n",
       "      <td>Andy多倫多在綫旅遊905-604-8843</td>\n",
       "      <td>[{\"Sex\": 1, \"Uin\": 0, \"City\": \"Toronto\", \"Alia...</td>\n",
       "      <td>神马？ $1含税专享长江三峡高铁奢华系列</td>\n",
       "      <td>Sharing</td>\n",
       "      <td>robot-1</td>\n",
       "      <td>珍妮4</td>\n",
       "    </tr>\n",
       "    <tr>\n",
       "      <th>53</th>\n",
       "      <td>Wilson_台式外卖</td>\n",
       "      <td>仲夏</td>\n",
       "      <td>[{\"Sex\": 1, \"Uin\": 0, \"City\": \"\", \"Alias\": \"\",...</td>\n",
       "      <td>罗渣士新春特价高速上网 电视 电话 智能房屋安保监控系统 - MyGoon</td>\n",
       "      <td>Sharing</td>\n",
       "      <td>robot-1</td>\n",
       "      <td>珍妮小猪</td>\n",
       "    </tr>\n",
       "  </tbody>\n",
       "</table>\n",
       "</div>"
      ],
      "text/plain": [
       "   group_displayname            user_nickname  \\\n",
       "49       Wilson_优品团购                 anna ～🇨🇦   \n",
       "50       Wilson_明通驾校                      Jin   \n",
       "51       Wilson_明通驾校                      Jin   \n",
       "52      Wilson_温莎无忧3  Andy多倫多在綫旅遊905-604-8843   \n",
       "53       Wilson_台式外卖                       仲夏   \n",
       "\n",
       "                                            user_info  \\\n",
       "49  [{\"Sex\": 2, \"Uin\": 0, \"City\": \"\", \"Alias\": \"\",...   \n",
       "50  [{\"Sex\": 1, \"Uin\": 0, \"City\": \"太原\", \"Alias\": \"...   \n",
       "51  [{\"Sex\": 1, \"Uin\": 0, \"City\": \"太原\", \"Alias\": \"...   \n",
       "52  [{\"Sex\": 1, \"Uin\": 0, \"City\": \"Toronto\", \"Alia...   \n",
       "53  [{\"Sex\": 1, \"Uin\": 0, \"City\": \"\", \"Alias\": \"\",...   \n",
       "\n",
       "                                              content content_type robot_id  \\\n",
       "49  @芍 不好意思[害羞]和朋友约了事情 今天在外边 才回来。你的帽子订了，后来商家来邮件说暂时...         Text  robot-1   \n",
       "50  2005年尼桑Altima 2.5s +18.5万公里  没毛病  因回国超低价出手，机会难...         Text  robot-1   \n",
       "51                                                  1      Picture  robot-1   \n",
       "52                               神马？ $1含税专享长江三峡高铁奢华系列      Sharing  robot-1   \n",
       "53              罗渣士新春特价高速上网 电视 电话 智能房屋安保监控系统 - MyGoon      Sharing  robot-1   \n",
       "\n",
       "         robot_displayname  \n",
       "49                    珍妮买卖  \n",
       "50  Jenny 7@ masterqun.com  \n",
       "51  Jenny 7@ masterqun.com  \n",
       "52                     珍妮4  \n",
       "53                    珍妮小猪  "
      ]
     },
     "execution_count": 46,
     "metadata": {},
     "output_type": "execute_result"
    }
   ],
   "source": [
    "df_chat_trim.tail()"
   ]
  },
  {
   "cell_type": "code",
   "execution_count": 47,
   "metadata": {},
   "outputs": [],
   "source": [
    "df_chat_trim['content_length'] = df_chat_trim['content'].str.len()"
   ]
  },
  {
   "cell_type": "code",
   "execution_count": 48,
   "metadata": {},
   "outputs": [
    {
     "data": {
      "text/html": [
       "<div>\n",
       "<style scoped>\n",
       "    .dataframe tbody tr th:only-of-type {\n",
       "        vertical-align: middle;\n",
       "    }\n",
       "\n",
       "    .dataframe tbody tr th {\n",
       "        vertical-align: top;\n",
       "    }\n",
       "\n",
       "    .dataframe thead th {\n",
       "        text-align: right;\n",
       "    }\n",
       "</style>\n",
       "<table border=\"1\" class=\"dataframe\">\n",
       "  <thead>\n",
       "    <tr style=\"text-align: right;\">\n",
       "      <th></th>\n",
       "      <th>group_displayname</th>\n",
       "      <th>user_nickname</th>\n",
       "      <th>user_info</th>\n",
       "      <th>content</th>\n",
       "      <th>content_type</th>\n",
       "      <th>robot_id</th>\n",
       "      <th>robot_displayname</th>\n",
       "      <th>content_length</th>\n",
       "    </tr>\n",
       "  </thead>\n",
       "  <tbody>\n",
       "    <tr>\n",
       "      <th>0</th>\n",
       "      <td>Wilson_大数据分析行业</td>\n",
       "      <td>永远的靠山</td>\n",
       "      <td>[{\"Sex\": 1, \"Uin\": 0, \"City\": \"成都\", \"Alias\": \"...</td>\n",
       "      <td>全世界聪明人都在玩的游戏，快来试试！</td>\n",
       "      <td>Sharing</td>\n",
       "      <td>NaN</td>\n",
       "      <td>NaN</td>\n",
       "      <td>18</td>\n",
       "    </tr>\n",
       "    <tr>\n",
       "      <th>1</th>\n",
       "      <td>Wilson_我的测试群</td>\n",
       "      <td>诚实的人</td>\n",
       "      <td>[{\"Sex\": 2, \"Uin\": 0, \"City\": \"\", \"Alias\": \"\",...</td>\n",
       "      <td>交叉口呵呵呵</td>\n",
       "      <td>Text</td>\n",
       "      <td>Jenny test</td>\n",
       "      <td>NaN</td>\n",
       "      <td>6</td>\n",
       "    </tr>\n",
       "    <tr>\n",
       "      <th>2</th>\n",
       "      <td>Wilson_netshaker</td>\n",
       "      <td>Iris, NetShaker, Founder</td>\n",
       "      <td>[{\"Sex\": 2, \"Uin\": 0, \"City\": \"\", \"Alias\": \"\",...</td>\n",
       "      <td>欢迎新人</td>\n",
       "      <td>Text</td>\n",
       "      <td>Jenny 3@ masterqun.com</td>\n",
       "      <td>NaN</td>\n",
       "      <td>4</td>\n",
       "    </tr>\n",
       "    <tr>\n",
       "      <th>3</th>\n",
       "      <td>Wilson_netshaker</td>\n",
       "      <td>Iris, NetShaker, Founder</td>\n",
       "      <td>[{\"Sex\": 2, \"Uin\": 0, \"City\": \"\", \"Alias\": \"\",...</td>\n",
       "      <td>本群用来分享工作 内部推荐 禁广告 不建议刷屏</td>\n",
       "      <td>Text</td>\n",
       "      <td>Jenny 3@ masterqun.com</td>\n",
       "      <td>NaN</td>\n",
       "      <td>23</td>\n",
       "    </tr>\n",
       "    <tr>\n",
       "      <th>4</th>\n",
       "      <td>Wilson_netshaker</td>\n",
       "      <td>海伦Helen</td>\n",
       "      <td>[{\"Sex\": 2, \"Uin\": 0, \"City\": \"\", \"Alias\": \"\",...</td>\n",
       "      <td>[玫瑰][玫瑰]有好职位带过来</td>\n",
       "      <td>Text</td>\n",
       "      <td>Jenny 3@ masterqun.com</td>\n",
       "      <td>NaN</td>\n",
       "      <td>16</td>\n",
       "    </tr>\n",
       "  </tbody>\n",
       "</table>\n",
       "</div>"
      ],
      "text/plain": [
       "  group_displayname             user_nickname  \\\n",
       "0    Wilson_大数据分析行业                     永远的靠山   \n",
       "1      Wilson_我的测试群                      诚实的人   \n",
       "2  Wilson_netshaker  Iris, NetShaker, Founder   \n",
       "3  Wilson_netshaker  Iris, NetShaker, Founder   \n",
       "4  Wilson_netshaker                   海伦Helen   \n",
       "\n",
       "                                           user_info                  content  \\\n",
       "0  [{\"Sex\": 1, \"Uin\": 0, \"City\": \"成都\", \"Alias\": \"...       全世界聪明人都在玩的游戏，快来试试！   \n",
       "1  [{\"Sex\": 2, \"Uin\": 0, \"City\": \"\", \"Alias\": \"\",...                   交叉口呵呵呵   \n",
       "2  [{\"Sex\": 2, \"Uin\": 0, \"City\": \"\", \"Alias\": \"\",...                     欢迎新人   \n",
       "3  [{\"Sex\": 2, \"Uin\": 0, \"City\": \"\", \"Alias\": \"\",...  本群用来分享工作 内部推荐 禁广告 不建议刷屏   \n",
       "4  [{\"Sex\": 2, \"Uin\": 0, \"City\": \"\", \"Alias\": \"\",...         [玫瑰][玫瑰]有好职位带过来    \n",
       "\n",
       "  content_type                robot_id robot_displayname  content_length  \n",
       "0      Sharing                     NaN               NaN              18  \n",
       "1         Text              Jenny test               NaN               6  \n",
       "2         Text  Jenny 3@ masterqun.com               NaN               4  \n",
       "3         Text  Jenny 3@ masterqun.com               NaN              23  \n",
       "4         Text  Jenny 3@ masterqun.com               NaN              16  "
      ]
     },
     "execution_count": 48,
     "metadata": {},
     "output_type": "execute_result"
    }
   ],
   "source": [
    "df_chat_trim.head()"
   ]
  },
  {
   "cell_type": "code",
   "execution_count": 49,
   "metadata": {},
   "outputs": [],
   "source": [
    "# save user_info to a sinlge series\n",
    "json_user = df_chat_trim['user_info']"
   ]
  },
  {
   "cell_type": "code",
   "execution_count": 51,
   "metadata": {},
   "outputs": [
    {
     "data": {
      "text/plain": [
       "Wilson_netshaker    13\n",
       "Wilson_我的测试群         9\n",
       "Wilson_明通驾校          9\n",
       "Wilson_温莎无忧2         7\n",
       "April19_approved     4\n",
       "Name: group_displayname, dtype: int64"
      ]
     },
     "execution_count": 51,
     "metadata": {},
     "output_type": "execute_result"
    }
   ],
   "source": [
    "# count total messages of all time\n",
    "df_group_acti = df_chat_trim['group_displayname'].value_counts()\n",
    "df_group_acti = df_group_acti.to_frame()\n",
    "df_group_acti.head()"
   ]
  },
  {
   "cell_type": "code",
   "execution_count": 55,
   "metadata": {},
   "outputs": [
    {
     "data": {
      "text/html": [
       "<div>\n",
       "<style scoped>\n",
       "    .dataframe tbody tr th:only-of-type {\n",
       "        vertical-align: middle;\n",
       "    }\n",
       "\n",
       "    .dataframe tbody tr th {\n",
       "        vertical-align: top;\n",
       "    }\n",
       "\n",
       "    .dataframe thead th {\n",
       "        text-align: right;\n",
       "    }\n",
       "</style>\n",
       "<table border=\"1\" class=\"dataframe\">\n",
       "  <thead>\n",
       "    <tr style=\"text-align: right;\">\n",
       "      <th></th>\n",
       "      <th>group_displayname</th>\n",
       "    </tr>\n",
       "  </thead>\n",
       "  <tbody>\n",
       "    <tr>\n",
       "      <th>Wilson_netshaker</th>\n",
       "      <td>11</td>\n",
       "    </tr>\n",
       "    <tr>\n",
       "      <th>Wilson_明通驾校</th>\n",
       "      <td>7</td>\n",
       "    </tr>\n",
       "    <tr>\n",
       "      <th>Wilson_我的测试群</th>\n",
       "      <td>6</td>\n",
       "    </tr>\n",
       "    <tr>\n",
       "      <th>Wilson_温莎无忧2</th>\n",
       "      <td>5</td>\n",
       "    </tr>\n",
       "    <tr>\n",
       "      <th>April19_approved</th>\n",
       "      <td>3</td>\n",
       "    </tr>\n",
       "  </tbody>\n",
       "</table>\n",
       "</div>"
      ],
      "text/plain": [
       "                  group_displayname\n",
       "Wilson_netshaker                 11\n",
       "Wilson_明通驾校                       7\n",
       "Wilson_我的测试群                      6\n",
       "Wilson_温莎无忧2                      5\n",
       "April19_approved                  3"
      ]
     },
     "execution_count": 55,
     "metadata": {},
     "output_type": "execute_result"
    }
   ],
   "source": [
    "# count total text messages\n",
    "df_group_text = df_chat_trim[df_chat_trim['content_type']=='Text']\n",
    "df_group_text_acti = df_group_text['group_displayname'].value_counts()\n",
    "df_group_text_acti = df_group_text_acti.to_frame()\n",
    "df_group_text_acti.head()"
   ]
  },
  {
   "cell_type": "code",
   "execution_count": 56,
   "metadata": {},
   "outputs": [
    {
     "data": {
      "text/html": [
       "<div>\n",
       "<style scoped>\n",
       "    .dataframe tbody tr th:only-of-type {\n",
       "        vertical-align: middle;\n",
       "    }\n",
       "\n",
       "    .dataframe tbody tr th {\n",
       "        vertical-align: top;\n",
       "    }\n",
       "\n",
       "    .dataframe thead th {\n",
       "        text-align: right;\n",
       "    }\n",
       "</style>\n",
       "<table border=\"1\" class=\"dataframe\">\n",
       "  <thead>\n",
       "    <tr style=\"text-align: right;\">\n",
       "      <th></th>\n",
       "      <th>group_displayname</th>\n",
       "    </tr>\n",
       "  </thead>\n",
       "  <tbody>\n",
       "    <tr>\n",
       "      <th>Wilson_netshaker</th>\n",
       "      <td>9</td>\n",
       "    </tr>\n",
       "    <tr>\n",
       "      <th>Wilson_我的测试群</th>\n",
       "      <td>6</td>\n",
       "    </tr>\n",
       "    <tr>\n",
       "      <th>Wilson_明通驾校</th>\n",
       "      <td>6</td>\n",
       "    </tr>\n",
       "    <tr>\n",
       "      <th>Wilson_温莎无忧2</th>\n",
       "      <td>4</td>\n",
       "    </tr>\n",
       "    <tr>\n",
       "      <th>April19_approved</th>\n",
       "      <td>3</td>\n",
       "    </tr>\n",
       "  </tbody>\n",
       "</table>\n",
       "</div>"
      ],
      "text/plain": [
       "                  group_displayname\n",
       "Wilson_netshaker                  9\n",
       "Wilson_我的测试群                      6\n",
       "Wilson_明通驾校                       6\n",
       "Wilson_温莎无忧2                      4\n",
       "April19_approved                  3"
      ]
     },
     "execution_count": 56,
     "metadata": {},
     "output_type": "execute_result"
    }
   ],
   "source": [
    "# count short text messages of all groups\n",
    "df_group_short_text = df_group_text[df_group_text['content_length']<=50]\n",
    "df_group_short_text_acti = df_group_short_text['group_displayname'].value_counts()\n",
    "df_group_short_text_acti = df_group_short_text_acti.to_frame()\n",
    "df_group_short_text_acti.head()"
   ]
  },
  {
   "cell_type": "code",
   "execution_count": null,
   "metadata": {},
   "outputs": [],
   "source": []
  },
  {
   "cell_type": "code",
   "execution_count": 13,
   "metadata": {},
   "outputs": [],
   "source": [
    "group_activity = df['group_id'].value_counts()"
   ]
  },
  {
   "cell_type": "code",
   "execution_count": 14,
   "metadata": {},
   "outputs": [
    {
     "data": {
      "text/plain": [
       "Wilson_温莎无忧4         32\n",
       "Wilson_Wordpress     30\n",
       "Wilson_鲜优            26\n",
       "April19_approved     14\n",
       "Wilson_剧本之家          12\n",
       "Wilson_lunchbreak    11\n",
       "Wilson_温莎无忧1         11\n",
       "Wilson_auto          11\n",
       "Wilson_房东网            9\n",
       "Wilson_温莎无忧2          8\n",
       "Wilson_我的测试群          6\n",
       "wilson_移民讲座           6\n",
       "Wilson_优品团购           6\n",
       "Wilson_netshaker      6\n",
       "Wilson_女世界            5\n",
       "Wilson_明通驾校           5\n",
       "Wilson_温莎CSSA         4\n",
       "Wilson_温莎租车二手货        4\n",
       "Wilson_宠物周边           4\n",
       "Wilson_旅游信息分享         3\n",
       "Wilson_javascript     3\n",
       "Wilson_百事通求职          3\n",
       "                      3\n",
       "Wilson_evertop        2\n",
       "Wilson_喜辣团购           1\n",
       "Wilson_移民讲座           1\n",
       "Wilson_多伦多招聘          1\n",
       "Name: group_id, dtype: int64"
      ]
     },
     "execution_count": 14,
     "metadata": {},
     "output_type": "execute_result"
    }
   ],
   "source": [
    "# group messages totally counts \n",
    "group_activity"
   ]
  },
  {
   "cell_type": "code",
   "execution_count": 22,
   "metadata": {},
   "outputs": [
    {
     "name": "stdout",
     "output_type": "stream",
     "text": [
      "27\n"
     ]
    }
   ],
   "source": [
    "# the total amount of groups\n",
    "print(len(group_activity))"
   ]
  },
  {
   "cell_type": "code",
   "execution_count": 15,
   "metadata": {},
   "outputs": [],
   "source": [
    "group_UN_activity = df['user_nickname'].value_counts()"
   ]
  },
  {
   "cell_type": "code",
   "execution_count": 16,
   "metadata": {},
   "outputs": [
    {
     "data": {
      "text/plain": [
       "群主：Linda?XYFitness    13\n",
       "Deer                   8\n",
       "哆啦A白?                  7\n",
       "Jim                    7\n",
       "Ray                    7\n",
       "开开知道?剧本杀               6\n",
       "Melinda                5\n",
       "Leo?                   5\n",
       "半弦风筝                   4\n",
       "anna ～??               4\n",
       "Name: user_nickname, dtype: int64"
      ]
     },
     "execution_count": 16,
     "metadata": {},
     "output_type": "execute_result"
    }
   ],
   "source": [
    "# all members' messages totally counts \n",
    "group_UN_activity.head(10)"
   ]
  },
  {
   "cell_type": "code",
   "execution_count": 17,
   "metadata": {},
   "outputs": [
    {
     "data": {
      "text/html": [
       "<div>\n",
       "<style scoped>\n",
       "    .dataframe tbody tr th:only-of-type {\n",
       "        vertical-align: middle;\n",
       "    }\n",
       "\n",
       "    .dataframe tbody tr th {\n",
       "        vertical-align: top;\n",
       "    }\n",
       "\n",
       "    .dataframe thead th {\n",
       "        text-align: right;\n",
       "    }\n",
       "</style>\n",
       "<table border=\"1\" class=\"dataframe\">\n",
       "  <thead>\n",
       "    <tr style=\"text-align: right;\">\n",
       "      <th></th>\n",
       "      <th>group_id</th>\n",
       "      <th>user_nickname</th>\n",
       "    </tr>\n",
       "  </thead>\n",
       "  <tbody>\n",
       "    <tr>\n",
       "      <th>0</th>\n",
       "      <td>Wilson_我的测试群</td>\n",
       "      <td>Wilson_我的测试群</td>\n",
       "    </tr>\n",
       "    <tr>\n",
       "      <th>1</th>\n",
       "      <td>Wilson_优品团购</td>\n",
       "      <td>anna ～??</td>\n",
       "    </tr>\n",
       "    <tr>\n",
       "      <th>2</th>\n",
       "      <td>Wilson_优品团购</td>\n",
       "      <td>文晶</td>\n",
       "    </tr>\n",
       "    <tr>\n",
       "      <th>3</th>\n",
       "      <td>Wilson_我的测试群</td>\n",
       "      <td>诚实的人</td>\n",
       "    </tr>\n",
       "    <tr>\n",
       "      <th>4</th>\n",
       "      <td>Wilson_优品团购</td>\n",
       "      <td>anna ～??</td>\n",
       "    </tr>\n",
       "  </tbody>\n",
       "</table>\n",
       "</div>"
      ],
      "text/plain": [
       "       group_id user_nickname\n",
       "0  Wilson_我的测试群  Wilson_我的测试群\n",
       "1   Wilson_优品团购      anna ～??\n",
       "2   Wilson_优品团购            文晶\n",
       "3  Wilson_我的测试群          诚实的人\n",
       "4   Wilson_优品团购      anna ～??"
      ]
     },
     "execution_count": 17,
     "metadata": {},
     "output_type": "execute_result"
    }
   ],
   "source": [
    "df_group_mem = df[['group_id','user_nickname']]\n",
    "df_group_mem.head()"
   ]
  },
  {
   "cell_type": "code",
   "execution_count": 18,
   "metadata": {},
   "outputs": [],
   "source": [
    "df_group_mem_ = df_group_mem.groupby([\"group_id\",\"user_nickname\"])\n"
   ]
  },
  {
   "cell_type": "code",
   "execution_count": 19,
   "metadata": {},
   "outputs": [
    {
     "data": {
      "text/plain": [
       "group_id           user_nickname              \n",
       "                                                   2\n",
       "                   Rain                            1\n",
       "April19_approved   96x x                           1\n",
       "                   97XX                            1\n",
       "                   Aaron晖                          4\n",
       "                   Daisy??Leelaw                   1\n",
       "                   app-apr05                       2\n",
       "                   app406                          2\n",
       "                   sub205-ass312-dip404-apr416     1\n",
       "                   sub209.ass409.dip423            2\n",
       "Wilson_Wordpress   Aлэк.Вон                        1\n",
       "                   Every dog has its day.          2\n",
       "                   Jason Li                        1\n",
       "                   Leo?                            5\n",
       "                   Melinda                         5\n",
       "                   Ray                             7\n",
       "                   wise                            2\n",
       "                   李建 achair                       3\n",
       "                   林舟[Joe]??                       1\n",
       "                   猫先生                             3\n",
       "Wilson_auto        Ann                             1\n",
       "                   Jim                             7\n",
       "                   S                               1\n",
       "                   亨利yang                          2\n",
       "Wilson_evertop     Evertop Startup                 2\n",
       "Wilson_javascript  I'm a loser                     1\n",
       "                   Jacky                           1\n",
       "                   「阿?栋」周 ‍先生                      1\n",
       "Wilson_lunchbreak  Lunch Break                     3\n",
       "                   Wish U Well                     2\n",
       "                                                  ..\n",
       "Wilson_温莎无忧4       Deer                            8\n",
       "                   Frankie                         3\n",
       "                   Iris ?                          1\n",
       "                   Leon                            1\n",
       "                   Queena Wang ?                   1\n",
       "                   weymi                           1\n",
       "                   何汶星                             1\n",
       "                   半弦风筝                            2\n",
       "                   哆啦A白?                           7\n",
       "                   林、v妮                            2\n",
       "                   超人是我弟                           1\n",
       "                   陈叶菁                             1\n",
       "Wilson_温莎租车二手货     ?优格?                            1\n",
       "                   Grace                           1\n",
       "                   Yvonne小荭@.@                     1\n",
       "                   丹尼?                             1\n",
       "Wilson_百事通求职       加拿大旅游公司                         1\n",
       "                   雲飛 647-888-3181 地产 楼花 建房        2\n",
       "Wilson_移民讲座        Canadavisa                      1\n",
       "Wilson_鲜优          Bread?????                      2\n",
       "                   Danny憋大招                        1\n",
       "                   Faye?                           1\n",
       "                   Shawn Xie ?                     2\n",
       "                   love                            1\n",
       "                   pikaYu?                         4\n",
       "                   一位不愿意透露姓名的李博杨先生                 1\n",
       "                   哈哈哈                             1\n",
       "                   群主：Linda?XYFitness             13\n",
       "wilson_移民讲座        168 CEC工作移民一站式                  4\n",
       "                   Canadavisa                      2\n",
       "Length: 113, dtype: int64"
      ]
     },
     "execution_count": 19,
     "metadata": {},
     "output_type": "execute_result"
    }
   ],
   "source": [
    "df_group_mem_.size()"
   ]
  },
  {
   "cell_type": "code",
   "execution_count": 20,
   "metadata": {},
   "outputs": [
    {
     "data": {
      "text/plain": [
       "user_nickname             group_id         \n",
       "                                                2\n",
       "#JS?                      Wilson_温莎无忧4          3\n",
       "168 CEC工作移民一站式            wilson_移民讲座           4\n",
       "96x x                     April19_approved      1\n",
       "97XX                      April19_approved      1\n",
       "?优格?                      Wilson_温莎租车二手货        1\n",
       "Aaron晖                    April19_approved      4\n",
       "Alia Liu                  Wilson_房东网            1\n",
       "Allen                     Wilson_温莎无忧2          1\n",
       "Angela                    Wilson_剧本之家           1\n",
       "Ann                       Wilson_auto           1\n",
       "Aлэк.Вон                  Wilson_Wordpress      1\n",
       "Bread?????                Wilson_鲜优             2\n",
       "Canadavisa                Wilson_移民讲座           1\n",
       "                          wilson_移民讲座           2\n",
       "Daisy??Leelaw             April19_approved      1\n",
       "Danny                     Wilson_温莎CSSA         1\n",
       "                          Wilson_温莎无忧1          1\n",
       "Danny憋大招                  Wilson_鲜优             1\n",
       "Deer                      Wilson_温莎无忧4          8\n",
       "Evertop Startup           Wilson_evertop        2\n",
       "Every dog has its day.    Wilson_Wordpress      2\n",
       "Faye?                     Wilson_鲜优             1\n",
       "Fiona                     Wilson_温莎无忧2          1\n",
       "Frankie                   Wilson_温莎CSSA         1\n",
       "                          Wilson_温莎无忧4          3\n",
       "Grace                     Wilson_温莎租车二手货        1\n",
       "I'm a loser               Wilson_javascript     1\n",
       "Iris ?                    Wilson_温莎无忧1          1\n",
       "                          Wilson_温莎无忧4          1\n",
       "                                               ..\n",
       "半弦风筝                      Wilson_温莎无忧4          2\n",
       "只吃糖不吃苦??                  Wilson_温莎无忧1          1\n",
       "周教练                       Wilson_明通驾校           1\n",
       "哆啦A白?                     Wilson_温莎无忧4          7\n",
       "哈哈哈                       Wilson_鲜优             1\n",
       "巫教练                       Wilson_明通驾校           1\n",
       "开开知道?剧本杀                  Wilson_剧本之家           6\n",
       "张之颖Elaine                 Wilson_lunchbreak     1\n",
       "文儿                        Wilson_女世界            1\n",
       "文晶                        Wilson_优品团购           1\n",
       "无语                        Wilson_温莎无忧1          2\n",
       "李建 achair                 Wilson_Wordpress      3\n",
       "村长                        Wilson_房东网            1\n",
       "杜儿                        Wilson_温莎无忧1          1\n",
       "                          Wilson_温莎无忧2          1\n",
       "林、v妮                      Wilson_温莎无忧4          2\n",
       "林舟[Joe]??                 Wilson_Wordpress      1\n",
       "洋洋                        Wilson_温莎无忧2          1\n",
       "猫先生                       Wilson_Wordpress      3\n",
       "申时义                       Wilson_多伦多招聘          1\n",
       "祝春光                       Wilson_优品团购           1\n",
       "给的多（Playhard ）            Wilson_温莎无忧2          2\n",
       "群主：Linda?XYFitness        Wilson_鲜优            13\n",
       "诚实的人                      Wilson_我的测试群          2\n",
       "超人是我弟                     Wilson_温莎无忧4          1\n",
       "金泰小导游                     Wilson_旅游信息分享         3\n",
       "铁敖                        Wilson_lunchbreak     2\n",
       "陈叶菁                       Wilson_温莎无忧4          1\n",
       "雲飛 647-888-3181 地产 楼花 建房  Wilson_百事通求职          2\n",
       "韩雨                        Wilson_剧本之家           1\n",
       "Length: 113, dtype: int64"
      ]
     },
     "execution_count": 20,
     "metadata": {},
     "output_type": "execute_result"
    }
   ],
   "source": [
    "# list the amount of messages in different groups of an individual \n",
    "df_mem_group_ = df_group_mem.groupby([\"user_nickname\",\"group_id\"])\n",
    "df_mem_group_.size()"
   ]
  },
  {
   "cell_type": "code",
   "execution_count": 30,
   "metadata": {},
   "outputs": [],
   "source": [
    "df_group = df.groupby([\"user_nickname\",\"content\",\"group_id\",\"content_type\"])"
   ]
  },
  {
   "cell_type": "code",
   "execution_count": 32,
   "metadata": {},
   "outputs": [],
   "source": [
    "df_group = df_group.size()"
   ]
  },
  {
   "cell_type": "code",
   "execution_count": 35,
   "metadata": {},
   "outputs": [],
   "source": [
    "df_group = df_group.to_frame()"
   ]
  },
  {
   "cell_type": "code",
   "execution_count": 38,
   "metadata": {},
   "outputs": [
    {
     "data": {
      "text/html": [
       "<div>\n",
       "<style scoped>\n",
       "    .dataframe tbody tr th:only-of-type {\n",
       "        vertical-align: middle;\n",
       "    }\n",
       "\n",
       "    .dataframe tbody tr th {\n",
       "        vertical-align: top;\n",
       "    }\n",
       "\n",
       "    .dataframe thead th {\n",
       "        text-align: right;\n",
       "    }\n",
       "</style>\n",
       "<table border=\"1\" class=\"dataframe\">\n",
       "  <thead>\n",
       "    <tr style=\"text-align: right;\">\n",
       "      <th></th>\n",
       "      <th></th>\n",
       "      <th></th>\n",
       "      <th></th>\n",
       "      <th>0</th>\n",
       "    </tr>\n",
       "    <tr>\n",
       "      <th>user_nickname</th>\n",
       "      <th>content</th>\n",
       "      <th>group_id</th>\n",
       "      <th>content_type</th>\n",
       "      <th></th>\n",
       "    </tr>\n",
       "  </thead>\n",
       "  <tbody>\n",
       "    <tr>\n",
       "      <th rowspan=\"2\" valign=\"top\"></th>\n",
       "      <th>真的吗</th>\n",
       "      <th></th>\n",
       "      <th>Text</th>\n",
       "      <td>1</td>\n",
       "    </tr>\n",
       "    <tr>\n",
       "      <th>试一下</th>\n",
       "      <th></th>\n",
       "      <th>Text</th>\n",
       "      <td>1</td>\n",
       "    </tr>\n",
       "    <tr>\n",
       "      <th rowspan=\"3\" valign=\"top\">#JS?</th>\n",
       "      <th>@哆啦A白? 我要去mall啊，刚刚找到</th>\n",
       "      <th>Wilson_温莎无忧4</th>\n",
       "      <th>Text</th>\n",
       "      <td>1</td>\n",
       "    </tr>\n",
       "    <tr>\n",
       "      <th>找到了谢谢</th>\n",
       "      <th>Wilson_温莎无忧4</th>\n",
       "      <th>Text</th>\n",
       "      <td>1</td>\n",
       "    </tr>\n",
       "    <tr>\n",
       "      <th>求现在Massey附近的carpool[嘿哈]</th>\n",
       "      <th>Wilson_温莎无忧4</th>\n",
       "      <th>Text</th>\n",
       "      <td>1</td>\n",
       "    </tr>\n",
       "    <tr>\n",
       "      <th rowspan=\"4\" valign=\"top\">168 CEC工作移民一站式</th>\n",
       "      <th>[流汗]</th>\n",
       "      <th>wilson_移民讲座</th>\n",
       "      <th>Text</th>\n",
       "      <td>1</td>\n",
       "    </tr>\n",
       "    <tr>\n",
       "      <th>http://www.168888.ca/index.php/2016-06-15-16-26-37/cec</th>\n",
       "      <th>wilson_移民讲座</th>\n",
       "      <th>Text</th>\n",
       "      <td>1</td>\n",
       "    </tr>\n",
       "    <tr>\n",
       "      <th>想找OAB类工作看这里！CEC 工作等你申请！</th>\n",
       "      <th>wilson_移民讲座</th>\n",
       "      <th>Sharing</th>\n",
       "      <td>1</td>\n",
       "    </tr>\n",
       "    <tr>\n",
       "      <th>最新工作</th>\n",
       "      <th>wilson_移民讲座</th>\n",
       "      <th>Text</th>\n",
       "      <td>1</td>\n",
       "    </tr>\n",
       "    <tr>\n",
       "      <th>96x x</th>\n",
       "      <th>请问一下提名信是必须本人亲自取么？可以让同住址的人那个我的驾照去取么？</th>\n",
       "      <th>April19_approved</th>\n",
       "      <th>Text</th>\n",
       "      <td>1</td>\n",
       "    </tr>\n",
       "  </tbody>\n",
       "</table>\n",
       "</div>"
      ],
      "text/plain": [
       "                                                                                                 0\n",
       "user_nickname  content                                            group_id         content_type   \n",
       "               真的吗                                                                 Text          1\n",
       "               试一下                                                                 Text          1\n",
       "#JS?           @哆啦A白? 我要去mall啊，刚刚找到                               Wilson_温莎无忧4     Text          1\n",
       "               找到了谢谢                                              Wilson_温莎无忧4     Text          1\n",
       "               求现在Massey附近的carpool[嘿哈]                            Wilson_温莎无忧4     Text          1\n",
       "168 CEC工作移民一站式 [流汗]                                               wilson_移民讲座      Text          1\n",
       "               http://www.168888.ca/index.php/2016-06-15-16-26... wilson_移民讲座      Text          1\n",
       "               想找OAB类工作看这里！CEC 工作等你申请！                            wilson_移民讲座      Sharing       1\n",
       "               最新工作                                               wilson_移民讲座      Text          1\n",
       "96x x          请问一下提名信是必须本人亲自取么？可以让同住址的人那个我的驾照去取么？                April19_approved Text          1"
      ]
     },
     "execution_count": 38,
     "metadata": {},
     "output_type": "execute_result"
    }
   ],
   "source": [
    "df_group.head(10)"
   ]
  },
  {
   "cell_type": "code",
   "execution_count": null,
   "metadata": {},
   "outputs": [],
   "source": []
  }
 ],
 "metadata": {
  "kernelspec": {
   "display_name": "Python 3",
   "language": "python",
   "name": "python3"
  },
  "language_info": {
   "codemirror_mode": {
    "name": "ipython",
    "version": 3
   },
   "file_extension": ".py",
   "mimetype": "text/x-python",
   "name": "python",
   "nbconvert_exporter": "python",
   "pygments_lexer": "ipython3",
   "version": "3.5.2"
  }
 },
 "nbformat": 4,
 "nbformat_minor": 2
}
